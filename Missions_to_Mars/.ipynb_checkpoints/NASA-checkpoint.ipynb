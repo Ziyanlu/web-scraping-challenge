{
 "cells": [
  {
   "cell_type": "code",
   "execution_count": 1,
   "metadata": {},
   "outputs": [],
   "source": [
    "from splinter import Browser\n",
    "from bs4 import BeautifulSoup\n",
    "import requests"
   ]
  },
  {
   "cell_type": "code",
   "execution_count": 2,
   "metadata": {},
   "outputs": [],
   "source": [
    "executable_path = {'executable_path': 'chromedriver.exe'}\n",
    "browser = Browser('chrome', **executable_path, headless=False)\n"
   ]
  },
  {
   "cell_type": "markdown",
   "metadata": {},
   "source": [
    "# NASA Mars News"
   ]
  },
  {
   "cell_type": "code",
   "execution_count": 3,
   "metadata": {},
   "outputs": [],
   "source": [
    "#NASA Mars News\n",
    "url = 'https://mars.nasa.gov/news/'\n",
    "browser.visit(url)\n",
    "html = browser.html\n",
    "soup = BeautifulSoup(html, 'lxml')\n"
   ]
  },
  {
   "cell_type": "code",
   "execution_count": 4,
   "metadata": {},
   "outputs": [],
   "source": [
    "results = soup.find_all('div', class_='list_text')\n"
   ]
  },
  {
   "cell_type": "code",
   "execution_count": 5,
   "metadata": {
    "scrolled": true
   },
   "outputs": [
    {
     "name": "stdout",
     "output_type": "stream",
     "text": [
      "InSight's 'Mole' Team Peers into the Pit\n",
      "Efforts to save the heat probe continue.\n",
      "------------------------------------------------------------------\n",
      "Common Questions about InSight's 'Mole'\n",
      "There's a new plan to get InSight's \"mole\" moving again. The following Q&As with two members of the team answer some of the most common questions about the burrowing device, part of a science instrument called the Heat Flow and Physical Properties Package (HP3).\n",
      "------------------------------------------------------------------\n",
      "Mars 2020 Stands on Its Own Six Wheels\n",
      "In time-lapse video, taken at JPL, captures the first time NASA's Mars 2020 rover carries its full weight on its legs and wheels.\n",
      "------------------------------------------------------------------\n",
      "New Selfie Shows Curiosity, the Mars Chemist\n",
      "The NASA rover performed a special chemistry experiment at the location captured in its newest self-portrait.\n",
      "------------------------------------------------------------------\n",
      "Naming a NASA Mars Rover Can Change Your Life\n",
      "Want to name the robotic scientist NASA is sending to Mars in 2020? The student who named Curiosity — the rover currently exploring Mars — will tell you this is an opportunity worth taking.\n",
      "------------------------------------------------------------------\n",
      "Mars 2020 Unwrapped and Ready for More Testing\n",
      "In time-lapse video, bunny-suited engineers remove the inner layer of protective foil on NASA's Mars 2020 rover after it was relocated for testing.\n",
      "------------------------------------------------------------------\n",
      "HiRISE Views NASA's InSight and Curiosity on Mars\n",
      "New images taken from space offer the clearest orbital glimpse yet of InSight as well as a view of Curiosity rolling along.\n",
      "------------------------------------------------------------------\n",
      "NASA's Curiosity Rover Finds an Ancient Oasis on Mars\n",
      "New evidence suggests salty, shallow ponds once dotted a Martian crater — a sign of the planet's drying climate.\n",
      "------------------------------------------------------------------\n",
      "NASA's Mars 2020 Rover Tests Descent-Stage Separation\n",
      "A crane lifts the rocket-powered descent stage away from NASA's Mars 2020 rover after technicians tested the pyrotechnic charges that separate the two spacecraft.\n",
      "------------------------------------------------------------------\n",
      "NASA's Push to Save the Mars InSight Lander's Heat Probe\n",
      "The scoop on the end of the spacecraft's robotic arm will be used to 'pin' the mole against the wall of its hole.\n",
      "------------------------------------------------------------------\n",
      "NASA's InSight 'Hears' Peculiar Sounds on Mars\n",
      "Listen to the marsquakes and other, less-expected sounds that the Mars lander has been detecting.\n",
      "------------------------------------------------------------------\n",
      "NASA Mars Mission Connects With Bosnian and Herzegovinian Town\n",
      "A letter from NASA was presented to the mayor of Jezero, Bosnia-Herzegovina, honoring the connection between the town and Jezero Crater, the Mars 2020 rover landing site.\n",
      "------------------------------------------------------------------\n",
      "Deadline Closing for Names to Fly on NASA's Next Mars Rover\n",
      "You have until Sept. 30 to send your names to Mars aboard the Mars 2020 rover. \n",
      "------------------------------------------------------------------\n",
      "NASA Wins Two Emmy Awards for Interactive Mission Coverage\n",
      "NASA-JPL's coverage of the Mars InSight landing earns one of the two wins, making this the NASA center's second Emmy.\n",
      "------------------------------------------------------------------\n",
      "NASA's Mars 2020 Comes Full Circle\n",
      "Aiming to pinpoint the Martian vehicle's center of gravity, engineers took NASA's 2,300-pound Mars 2020 rover for a spin in the clean room at JPL. \n",
      "------------------------------------------------------------------\n",
      "NASA Invites Students to Name Mars 2020 Rover\n",
      "Through Nov. 1, K-12 students in the U.S. are encouraged to enter an essay contest to name NASA's next Mars rover.\n",
      "------------------------------------------------------------------\n",
      "NASA's Mars Helicopter Attached to Mars 2020 Rover \n",
      "The helicopter will be first aircraft to perform flight tests on another planet.\n",
      "------------------------------------------------------------------\n",
      "What's Mars Solar Conjunction, and Why Does It Matter?\n",
      "NASA spacecraft at Mars are going to be on their own for a few weeks when the Sun comes between Mars and Earth, interrupting communications.\n",
      "------------------------------------------------------------------\n",
      "Scientists Explore Outback as Testbed for Mars \n",
      "Australia provides a great place for NASA's Mars 2020 and the ESA-Roscosmos ExoMars scientists to hone techniques in preparation for searching for signs ancient life on Mars.\n",
      "------------------------------------------------------------------\n",
      "NASA-JPL Names 'Rolling Stones Rock' on Mars\n",
      "NASA's Mars InSight mission honored one of the biggest bands of all time at Pasadena concert.\n",
      "------------------------------------------------------------------\n",
      "Robotic Toolkit Added to NASA's Mars 2020 Rover\n",
      "The bit carousel, which lies at the heart of the rover's Sample Caching System, is now aboard NASA's newest rover. \n",
      "------------------------------------------------------------------\n",
      "Space Samples Link NASA's Apollo 11 and Mars 2020\n",
      "While separated by half a century, NASA's Apollo 11 and Mars 2020 missions share the same historic goal: returning samples to Earth.\n",
      "------------------------------------------------------------------\n",
      "Small Satellite Mission of the Year\n",
      "The first interplanetary CubeSats were recognized by the engineering community with the 2019 Small Satellite Mission of the Year award.\n",
      "------------------------------------------------------------------\n",
      "NASA 'Optometrists' Verify Mars 2020 Rover's 20/20 Vision\n",
      "Mars 2020 rover underwent an eye exam after several cameras were installed on the rover.\n",
      "------------------------------------------------------------------\n",
      "New Finds for Mars Rover, Seven Years After Landing\n",
      "NASA's Curiosity rover is discovering odd rocks halfway into a region called the \"clay-bearing unit.\"\n",
      "------------------------------------------------------------------\n",
      "MEDLI2 Installation on Mars 2020 Aeroshell Begins\n",
      "Hardware installed onto NASA's Mars 2020 entry vehicle this week will help to increase the safety of future Mars landings.\n",
      "------------------------------------------------------------------\n",
      "NASA's Mars 2020 Rover Does Biceps Curls \n",
      "In this time-lapse video, the robotic arm on NASA's Mars 2020 rover maneuvers its 88-pound (40-kilogram) sensor-laden turret as it moves from a deployed to stowed configuration.\n",
      "------------------------------------------------------------------\n",
      "Fueling of NASA's Mars 2020 Rover Power System Begins\n",
      "NASA gives the go-ahead to fuel the Mars 2020 rover's Multi-Mission Radioisotope Thermoelectric Generator, which will power rover and help keep it warm while exploring Mars.\n",
      "------------------------------------------------------------------\n",
      "What Does a Marsquake Look Like?\n",
      "InSight scientists used a special \"shake room\" to demonstrate the differences between quakes on Earth, the Moon and Mars.\n",
      "------------------------------------------------------------------\n",
      "Mars 2020 Rover: T-Minus One Year and Counting \n",
      "The launch period for NASA's next rover, Mars 2020, opens exactly one year from today, July 17, 2020, and extends through Aug. 5, 2020.\n",
      "------------------------------------------------------------------\n",
      "NASA Racks Up Two Emmy Nominations for Mission Coverage\n",
      "JPL's coverage of the Mars InSight mission is among the efforts that will be up for an award in mid-September.\n",
      "------------------------------------------------------------------\n",
      "Want to Colonize Mars? Aerogel Could Help\n",
      "Researchers are studying whether a wonder material used in Mars rovers could help warm parts of the Red Planet rich in water ice.\n",
      "------------------------------------------------------------------\n",
      "A Rover Pit Stop at JPL\n",
      "Working like a finely honed machine, a team of engineers in this time-lapse video clip install test wheels on another finely honed machine: NASA's Mars 2020 rover.\n",
      "------------------------------------------------------------------\n",
      "Mars 2020 Rover Gets a Super Instrument\n",
      "With its rock-zapping laser, the SuperCam will enable the science team to identify the chemical and mineral makeup of its targets on the Red Planet.\n",
      "------------------------------------------------------------------\n",
      "A Neil Armstrong for Mars: Landing the Mars 2020 Rover\n",
      "NASA's newest rover will have an autopilot called Terrain-Relative Navigation.\n",
      "------------------------------------------------------------------\n",
      "NASA's InSight Uncovers the 'Mole' \n",
      "The lander's robotic arm has successfully removed a piece of hardware blocking the view of its digging device in order to help with recovery efforts.\n",
      "------------------------------------------------------------------\n",
      "Mars 2020 Rover's 7-Foot-Long Robotic Arm Installed\n",
      "The main robotic arm has been installed on NASA's newest rover. When complete, the arm will enable the rover to hold and use science tools like a human geologist would.\n",
      "------------------------------------------------------------------\n",
      "NASA Selects Partners for Mars 2020 'Name the Rover' Contest, Seeks Judges\n",
      "The contest for U.S. schoolchildren will open in fall 2019, but judges can sign up now.\n",
      "------------------------------------------------------------------\n",
      "Curiosity's Mars Methane Mystery Continues\n",
      "The Curiosity rover’s follow-on sampling shows last week’s methane levels have sharply decreased.\n",
      "------------------------------------------------------------------\n",
      "Mars 2020 Rover Gets Its Wheels\n",
      "With the mobility suspension in place, the rover not only looks more like a rover but has many of its 'big-ticket items' installed.\n",
      "------------------------------------------------------------------\n"
     ]
    }
   ],
   "source": [
    "titles = []\n",
    "paragraphs = []\n",
    "for result in results:\n",
    "    title = result.find('a').text\n",
    "    paragraph = result.find('div', class_='article_teaser_body').text\n",
    "    \n",
    "    titles.append(title)\n",
    "    paragraphs.append(paragraph)\n",
    "    print(title)\n",
    "    print(paragraph)\n",
    "    print('------------------------------------------------------------------')\n",
    "    "
   ]
  },
  {
   "cell_type": "code",
   "execution_count": 6,
   "metadata": {},
   "outputs": [
    {
     "name": "stdout",
     "output_type": "stream",
     "text": [
      "Most recent news from NASA Mars News\n",
      "----------------------------------------\n",
      "News title: InSight's 'Mole' Team Peers into the Pit\n",
      "paragraph text: Efforts to save the heat probe continue.\n"
     ]
    }
   ],
   "source": [
    "print('Most recent news from NASA Mars News')\n",
    "print('----------------------------------------')\n",
    "print(f\"News title: {titles[0]}\")\n",
    "print(f\"paragraph text: {paragraphs[0]}\")\n"
   ]
  },
  {
   "cell_type": "code",
   "execution_count": null,
   "metadata": {},
   "outputs": [],
   "source": []
  }
 ],
 "metadata": {
  "kernelspec": {
   "display_name": "Python 3",
   "language": "python",
   "name": "python3"
  },
  "language_info": {
   "codemirror_mode": {
    "name": "ipython",
    "version": 3
   },
   "file_extension": ".py",
   "mimetype": "text/x-python",
   "name": "python",
   "nbconvert_exporter": "python",
   "pygments_lexer": "ipython3",
   "version": "3.7.3"
  },
  "varInspector": {
   "cols": {
    "lenName": 16,
    "lenType": 16,
    "lenVar": 40
   },
   "kernels_config": {
    "python": {
     "delete_cmd_postfix": "",
     "delete_cmd_prefix": "del ",
     "library": "var_list.py",
     "varRefreshCmd": "print(var_dic_list())"
    },
    "r": {
     "delete_cmd_postfix": ") ",
     "delete_cmd_prefix": "rm(",
     "library": "var_list.r",
     "varRefreshCmd": "cat(var_dic_list()) "
    }
   },
   "types_to_exclude": [
    "module",
    "function",
    "builtin_function_or_method",
    "instance",
    "_Feature"
   ],
   "window_display": false
  }
 },
 "nbformat": 4,
 "nbformat_minor": 2
}
